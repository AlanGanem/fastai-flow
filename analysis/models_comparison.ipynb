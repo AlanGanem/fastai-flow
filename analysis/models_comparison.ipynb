{
 "cells": [
  {
   "cell_type": "code",
   "execution_count": 1,
   "metadata": {},
   "outputs": [],
   "source": [
    "import seaborn as sns\n",
    "import matplotlib.pyplot as plt\n",
    "import pandas as pd"
   ]
  },
  {
   "cell_type": "code",
   "execution_count": 12,
   "metadata": {},
   "outputs": [],
   "source": [
    "diretos = pd.read_csv(r'../mock_data/diretos/data_df.csv')"
   ]
  },
  {
   "cell_type": "code",
   "execution_count": 18,
   "metadata": {},
   "outputs": [],
   "source": [
    "indiretos = pd.read_csv(r'../mock_data/indiretos/data_df.csv')"
   ]
  },
  {
   "cell_type": "code",
   "execution_count": 19,
   "metadata": {},
   "outputs": [],
   "source": [
    "complete = pd.read_csv(r'../mock_data/complete_dataset/data_df.csv')"
   ]
  },
  {
   "cell_type": "code",
   "execution_count": 13,
   "metadata": {
    "scrolled": false
   },
   "outputs": [
    {
     "data": {
      "text/html": [
       "<div>\n",
       "<style scoped>\n",
       "    .dataframe tbody tr th:only-of-type {\n",
       "        vertical-align: middle;\n",
       "    }\n",
       "\n",
       "    .dataframe tbody tr th {\n",
       "        vertical-align: top;\n",
       "    }\n",
       "\n",
       "    .dataframe thead th {\n",
       "        text-align: right;\n",
       "    }\n",
       "</style>\n",
       "<table border=\"1\" class=\"dataframe\">\n",
       "  <thead>\n",
       "    <tr style=\"text-align: right;\">\n",
       "      <th></th>\n",
       "      <th>Unnamed: 0</th>\n",
       "      <th>DatadoDocumento</th>\n",
       "      <th>Fornecedor</th>\n",
       "      <th>RazãoSocial</th>\n",
       "      <th>TpImposto</th>\n",
       "      <th>UF</th>\n",
       "      <th>Filial</th>\n",
       "      <th>NºDocumentoSAP-Nota</th>\n",
       "      <th>Material</th>\n",
       "      <th>Descriçãodomaterial</th>\n",
       "      <th>...</th>\n",
       "      <th>UFUnd</th>\n",
       "      <th>Item do pedido</th>\n",
       "      <th>OrgC</th>\n",
       "      <th>Lib</th>\n",
       "      <th>GCm</th>\n",
       "      <th>_UNSEEN_CLASS</th>\n",
       "      <th>_TRUE_LABEL_PROBA</th>\n",
       "      <th>_CLASS_PREDS</th>\n",
       "      <th>_CLASS_PROBA</th>\n",
       "      <th>_GOT_RIGHT</th>\n",
       "    </tr>\n",
       "  </thead>\n",
       "  <tbody>\n",
       "    <tr>\n",
       "      <th>0</th>\n",
       "      <td>33</td>\n",
       "      <td>02/01/2019</td>\n",
       "      <td>303151.0</td>\n",
       "      <td>INGREDION BRASIL INGREDIENTES</td>\n",
       "      <td>B1</td>\n",
       "      <td>PR</td>\n",
       "      <td>BR22</td>\n",
       "      <td>NaN</td>\n",
       "      <td>50007747.0</td>\n",
       "      <td>XAROPE ALTA MALTOSE;82%;;</td>\n",
       "      <td>...</td>\n",
       "      <td>RS</td>\n",
       "      <td>10.0</td>\n",
       "      <td>BR00</td>\n",
       "      <td>NaN</td>\n",
       "      <td>B01</td>\n",
       "      <td>False</td>\n",
       "      <td>NaN</td>\n",
       "      <td>I7</td>\n",
       "      <td>0.998775</td>\n",
       "      <td>True</td>\n",
       "    </tr>\n",
       "    <tr>\n",
       "      <th>1</th>\n",
       "      <td>42</td>\n",
       "      <td>02/01/2019</td>\n",
       "      <td>303166.0</td>\n",
       "      <td>INGREDION BRASIL INGREDIENTES</td>\n",
       "      <td>B1</td>\n",
       "      <td>PE</td>\n",
       "      <td>BR04</td>\n",
       "      <td>NaN</td>\n",
       "      <td>50007747.0</td>\n",
       "      <td>XAROPE ALTA MALTOSE;82%;;</td>\n",
       "      <td>...</td>\n",
       "      <td>BA</td>\n",
       "      <td>10.0</td>\n",
       "      <td>BR00</td>\n",
       "      <td>NaN</td>\n",
       "      <td>B02</td>\n",
       "      <td>False</td>\n",
       "      <td>NaN</td>\n",
       "      <td>I7</td>\n",
       "      <td>0.999979</td>\n",
       "      <td>True</td>\n",
       "    </tr>\n",
       "    <tr>\n",
       "      <th>2</th>\n",
       "      <td>43</td>\n",
       "      <td>02/01/2019</td>\n",
       "      <td>303118.0</td>\n",
       "      <td>INGREDION BRASIL INGREDIENTES</td>\n",
       "      <td>B1</td>\n",
       "      <td>SP</td>\n",
       "      <td>BR16</td>\n",
       "      <td>NaN</td>\n",
       "      <td>50007747.0</td>\n",
       "      <td>XAROPE ALTA MALTOSE;82%;;</td>\n",
       "      <td>...</td>\n",
       "      <td>SP</td>\n",
       "      <td>10.0</td>\n",
       "      <td>BR00</td>\n",
       "      <td>NaN</td>\n",
       "      <td>B02</td>\n",
       "      <td>False</td>\n",
       "      <td>NaN</td>\n",
       "      <td>I7</td>\n",
       "      <td>0.999984</td>\n",
       "      <td>True</td>\n",
       "    </tr>\n",
       "    <tr>\n",
       "      <th>3</th>\n",
       "      <td>47</td>\n",
       "      <td>02/01/2019</td>\n",
       "      <td>303118.0</td>\n",
       "      <td>INGREDION BRASIL INGREDIENTES</td>\n",
       "      <td>B1</td>\n",
       "      <td>SP</td>\n",
       "      <td>BR29</td>\n",
       "      <td>NaN</td>\n",
       "      <td>50007747.0</td>\n",
       "      <td>XAROPE ALTA MALTOSE;82%;;</td>\n",
       "      <td>...</td>\n",
       "      <td>MG</td>\n",
       "      <td>10.0</td>\n",
       "      <td>BR00</td>\n",
       "      <td>NaN</td>\n",
       "      <td>B01</td>\n",
       "      <td>False</td>\n",
       "      <td>NaN</td>\n",
       "      <td>I7</td>\n",
       "      <td>0.999297</td>\n",
       "      <td>True</td>\n",
       "    </tr>\n",
       "    <tr>\n",
       "      <th>4</th>\n",
       "      <td>87</td>\n",
       "      <td>02/01/2019</td>\n",
       "      <td>393520.0</td>\n",
       "      <td>PLASTEK DO BRASIL INDUSTRIA E</td>\n",
       "      <td>B1</td>\n",
       "      <td>SP</td>\n",
       "      <td>BR23</td>\n",
       "      <td>NaN</td>\n",
       "      <td>50012784.0</td>\n",
       "      <td>TAMPA PLAST.;.;;;GATORADE PET500;</td>\n",
       "      <td>...</td>\n",
       "      <td>SP</td>\n",
       "      <td>10.0</td>\n",
       "      <td>BR00</td>\n",
       "      <td>NaN</td>\n",
       "      <td>B02</td>\n",
       "      <td>False</td>\n",
       "      <td>NaN</td>\n",
       "      <td>I9</td>\n",
       "      <td>0.999958</td>\n",
       "      <td>True</td>\n",
       "    </tr>\n",
       "  </tbody>\n",
       "</table>\n",
       "<p>5 rows × 26 columns</p>\n",
       "</div>"
      ],
      "text/plain": [
       "   Unnamed: 0 DatadoDocumento  Fornecedor  \\\n",
       "0          33      02/01/2019    303151.0   \n",
       "1          42      02/01/2019    303166.0   \n",
       "2          43      02/01/2019    303118.0   \n",
       "3          47      02/01/2019    303118.0   \n",
       "4          87      02/01/2019    393520.0   \n",
       "\n",
       "                           RazãoSocial  TpImposto   UF Filial  \\\n",
       "0  INGREDION BRASIL INGREDIENTES        B1         PR    BR22   \n",
       "1  INGREDION BRASIL INGREDIENTES        B1         PE    BR04   \n",
       "2  INGREDION BRASIL INGREDIENTES        B1         SP    BR16   \n",
       "3  INGREDION BRASIL INGREDIENTES        B1         SP    BR29   \n",
       "4  PLASTEK DO BRASIL INDUSTRIA E        B1         SP    BR23   \n",
       "\n",
       "   NºDocumentoSAP-Nota    Material                Descriçãodomaterial  ...  \\\n",
       "0                  NaN  50007747.0          XAROPE ALTA MALTOSE;82%;;  ...   \n",
       "1                  NaN  50007747.0          XAROPE ALTA MALTOSE;82%;;  ...   \n",
       "2                  NaN  50007747.0          XAROPE ALTA MALTOSE;82%;;  ...   \n",
       "3                  NaN  50007747.0          XAROPE ALTA MALTOSE;82%;;  ...   \n",
       "4                  NaN  50012784.0  TAMPA PLAST.;.;;;GATORADE PET500;  ...   \n",
       "\n",
       "   UFUnd  Item do pedido  OrgC Lib  GCm _UNSEEN_CLASS _TRUE_LABEL_PROBA  \\\n",
       "0     RS            10.0  BR00 NaN  B01         False               NaN   \n",
       "1     BA            10.0  BR00 NaN  B02         False               NaN   \n",
       "2     SP            10.0  BR00 NaN  B02         False               NaN   \n",
       "3     MG            10.0  BR00 NaN  B01         False               NaN   \n",
       "4     SP            10.0  BR00 NaN  B02         False               NaN   \n",
       "\n",
       "   _CLASS_PREDS _CLASS_PROBA  _GOT_RIGHT  \n",
       "0            I7     0.998775        True  \n",
       "1            I7     0.999979        True  \n",
       "2            I7     0.999984        True  \n",
       "3            I7     0.999297        True  \n",
       "4            I9     0.999958        True  \n",
       "\n",
       "[5 rows x 26 columns]"
      ]
     },
     "execution_count": 13,
     "metadata": {},
     "output_type": "execute_result"
    }
   ],
   "source": [
    "diretos.head()"
   ]
  },
  {
   "cell_type": "code",
   "execution_count": 14,
   "metadata": {},
   "outputs": [
    {
     "data": {
      "text/plain": [
       "Index(['Unnamed: 0', 'DatadoDocumento', 'Fornecedor', 'RazãoSocial',\n",
       "       'TpImposto', 'UF', 'Filial', 'NºDocumentoSAP-Nota', 'Material',\n",
       "       'Descriçãodomaterial', 'Nºdopedido', 'Contrato', 'IVAMIRO', 'IVAPC',\n",
       "       'Status', 'PEP', 'UFUnd', 'Item do pedido', 'OrgC', 'Lib', 'GCm',\n",
       "       '_UNSEEN_CLASS', '_TRUE_LABEL_PROBA', '_CLASS_PREDS', '_CLASS_PROBA',\n",
       "       '_GOT_RIGHT'],\n",
       "      dtype='object')"
      ]
     },
     "execution_count": 14,
     "metadata": {},
     "output_type": "execute_result"
    }
   ],
   "source": [
    "diretos.columns"
   ]
  },
  {
   "cell_type": "code",
   "execution_count": 29,
   "metadata": {},
   "outputs": [],
   "source": [
    "metrics = pd.DataFrame([diretos.groupby(by='IVAMIRO').mean()['_GOT_RIGHT'], indiretos.groupby(by='IVAMIRO').mean()['_GOT_RIGHT'], complete.groupby(by='IVAMIRO').mean()['_GOT_RIGHT']])\n",
    "metrics.reset_index(drop=True, inplace=True)"
   ]
  },
  {
   "cell_type": "code",
   "execution_count": 33,
   "metadata": {},
   "outputs": [],
   "source": [
    "metrics.rename(index={0:'diretos', 1:'indiretos', 2:'complete'}, inplace=True)"
   ]
  },
  {
   "cell_type": "code",
   "execution_count": 57,
   "metadata": {},
   "outputs": [
    {
     "data": {
      "text/html": [
       "<div>\n",
       "<style scoped>\n",
       "    .dataframe tbody tr th:only-of-type {\n",
       "        vertical-align: middle;\n",
       "    }\n",
       "\n",
       "    .dataframe tbody tr th {\n",
       "        vertical-align: top;\n",
       "    }\n",
       "\n",
       "    .dataframe thead th {\n",
       "        text-align: right;\n",
       "    }\n",
       "</style>\n",
       "<table border=\"1\" class=\"dataframe\">\n",
       "  <thead>\n",
       "    <tr style=\"text-align: right;\">\n",
       "      <th></th>\n",
       "      <th>C0</th>\n",
       "      <th>C1</th>\n",
       "      <th>C7</th>\n",
       "      <th>C8</th>\n",
       "      <th>C9</th>\n",
       "      <th>CD</th>\n",
       "      <th>D5</th>\n",
       "      <th>D6</th>\n",
       "      <th>I0</th>\n",
       "      <th>I1</th>\n",
       "      <th>...</th>\n",
       "      <th>ZB</th>\n",
       "      <th>ZC</th>\n",
       "      <th>ZH</th>\n",
       "      <th>ZT</th>\n",
       "      <th>ZV</th>\n",
       "      <th>CF</th>\n",
       "      <th>IH</th>\n",
       "      <th>IJ</th>\n",
       "      <th>Q7</th>\n",
       "      <th>ZD</th>\n",
       "    </tr>\n",
       "  </thead>\n",
       "  <tbody>\n",
       "    <tr>\n",
       "      <th>diretos</th>\n",
       "      <td>1.000000</td>\n",
       "      <td>0.959184</td>\n",
       "      <td>0.000000</td>\n",
       "      <td>0.921053</td>\n",
       "      <td>0.000000</td>\n",
       "      <td>0.995475</td>\n",
       "      <td>0.000000</td>\n",
       "      <td>0.000000</td>\n",
       "      <td>0.967105</td>\n",
       "      <td>0.960573</td>\n",
       "      <td>...</td>\n",
       "      <td>NaN</td>\n",
       "      <td>NaN</td>\n",
       "      <td>NaN</td>\n",
       "      <td>NaN</td>\n",
       "      <td>NaN</td>\n",
       "      <td>NaN</td>\n",
       "      <td>NaN</td>\n",
       "      <td>NaN</td>\n",
       "      <td>NaN</td>\n",
       "      <td>NaN</td>\n",
       "    </tr>\n",
       "    <tr>\n",
       "      <th>indiretos</th>\n",
       "      <td>0.840000</td>\n",
       "      <td>0.910436</td>\n",
       "      <td>0.842615</td>\n",
       "      <td>0.836555</td>\n",
       "      <td>0.714286</td>\n",
       "      <td>0.907529</td>\n",
       "      <td>0.997284</td>\n",
       "      <td>0.285714</td>\n",
       "      <td>0.518333</td>\n",
       "      <td>0.695652</td>\n",
       "      <td>...</td>\n",
       "      <td>0.835165</td>\n",
       "      <td>0.375</td>\n",
       "      <td>0.0</td>\n",
       "      <td>0.200000</td>\n",
       "      <td>1.000000</td>\n",
       "      <td>NaN</td>\n",
       "      <td>NaN</td>\n",
       "      <td>NaN</td>\n",
       "      <td>NaN</td>\n",
       "      <td>NaN</td>\n",
       "    </tr>\n",
       "    <tr>\n",
       "      <th>complete</th>\n",
       "      <td>0.845029</td>\n",
       "      <td>0.895343</td>\n",
       "      <td>0.861386</td>\n",
       "      <td>0.882603</td>\n",
       "      <td>1.000000</td>\n",
       "      <td>0.922994</td>\n",
       "      <td>0.994473</td>\n",
       "      <td>0.052632</td>\n",
       "      <td>0.593548</td>\n",
       "      <td>0.868557</td>\n",
       "      <td>...</td>\n",
       "      <td>0.877285</td>\n",
       "      <td>0.000</td>\n",
       "      <td>0.5</td>\n",
       "      <td>0.428571</td>\n",
       "      <td>0.833333</td>\n",
       "      <td>0.0</td>\n",
       "      <td>0.5</td>\n",
       "      <td>0.0</td>\n",
       "      <td>0.0</td>\n",
       "      <td>0.5</td>\n",
       "    </tr>\n",
       "  </tbody>\n",
       "</table>\n",
       "<p>3 rows × 75 columns</p>\n",
       "</div>"
      ],
      "text/plain": [
       "                 C0        C1        C7        C8        C9        CD  \\\n",
       "diretos    1.000000  0.959184  0.000000  0.921053  0.000000  0.995475   \n",
       "indiretos  0.840000  0.910436  0.842615  0.836555  0.714286  0.907529   \n",
       "complete   0.845029  0.895343  0.861386  0.882603  1.000000  0.922994   \n",
       "\n",
       "                 D5        D6        I0        I1  ...        ZB     ZC   ZH  \\\n",
       "diretos    0.000000  0.000000  0.967105  0.960573  ...       NaN    NaN  NaN   \n",
       "indiretos  0.997284  0.285714  0.518333  0.695652  ...  0.835165  0.375  0.0   \n",
       "complete   0.994473  0.052632  0.593548  0.868557  ...  0.877285  0.000  0.5   \n",
       "\n",
       "                 ZT        ZV   CF   IH   IJ   Q7   ZD  \n",
       "diretos         NaN       NaN  NaN  NaN  NaN  NaN  NaN  \n",
       "indiretos  0.200000  1.000000  NaN  NaN  NaN  NaN  NaN  \n",
       "complete   0.428571  0.833333  0.0  0.5  0.0  0.0  0.5  \n",
       "\n",
       "[3 rows x 75 columns]"
      ]
     },
     "execution_count": 57,
     "metadata": {},
     "output_type": "execute_result"
    }
   ],
   "source": [
    "metrics"
   ]
  },
  {
   "cell_type": "code",
   "execution_count": 64,
   "metadata": {},
   "outputs": [
    {
     "data": {
      "text/plain": [
       "0.8753623188405797"
      ]
     },
     "execution_count": 64,
     "metadata": {},
     "output_type": "execute_result"
    }
   ],
   "source": [
    "metrics.iloc[2,:].median()"
   ]
  },
  {
   "cell_type": "code",
   "execution_count": null,
   "metadata": {},
   "outputs": [],
   "source": []
  },
  {
   "cell_type": "code",
   "execution_count": 49,
   "metadata": {
    "scrolled": false
   },
   "outputs": [
    {
     "data": {
      "image/png": "[encoded data removed]",
      "text/plain": [
       "<Figure size 432x288 with 1 Axes>"
      ]
     },
     "metadata": {
      "needs_background": "light"
     },
     "output_type": "display_data"
    }
   ],
   "source": [
    "figure = metrics.T.plot.barh()\n",
    "plt.subplots_adjust(bottom=-10, right=2)"
   ]
  },
  {
   "cell_type": "code",
   "execution_count": 53,
   "metadata": {},
   "outputs": [
    {
     "data": {
      "text/plain": [
       "diretos      0.773240\n",
       "indiretos    0.661640\n",
       "complete     0.721126\n",
       "dtype: float64"
      ]
     },
     "execution_count": 53,
     "metadata": {},
     "output_type": "execute_result"
    }
   ],
   "source": [
    "metrics.T.mean()"
   ]
  },
  {
   "cell_type": "code",
   "execution_count": 56,
   "metadata": {},
   "outputs": [
    {
     "data": {
      "text/plain": [
       "diretos      0.959884\n",
       "indiretos    0.726506\n",
       "complete     0.822534\n",
       "dtype: float64"
      ]
     },
     "execution_count": 56,
     "metadata": {},
     "output_type": "execute_result"
    }
   ],
   "source": [
    "metrics[metrics>0].T.mean()"
   ]
  },
  {
   "cell_type": "code",
   "execution_count": null,
   "metadata": {},
   "outputs": [],
   "source": []
  }
 ],
 "metadata": {
  "kernelspec": {
   "display_name": "Python 3",
   "language": "python",
   "name": "python3"
  },
  "language_info": {
   "codemirror_mode": {
    "name": "ipython",
    "version": 3
   },
   "file_extension": ".py",
   "mimetype": "text/x-python",
   "name": "python",
   "nbconvert_exporter": "python",
   "pygments_lexer": "ipython3",
   "version": "3.7.6"
  }
 },
 "nbformat": 4,
 "nbformat_minor": 4
}

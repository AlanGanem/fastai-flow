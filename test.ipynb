{
 "cells": [
  {
   "cell_type": "code",
   "execution_count": 1,
   "metadata": {},
   "outputs": [],
   "source": [
    "from pipeline import ClassificationPipeline\n",
    "import pandas as pd"
   ]
  },
  {
   "cell_type": "code",
   "execution_count": 17,
   "metadata": {},
   "outputs": [],
   "source": [
    "TEST_PATH = r'C:\\Users\\User Ambev\\Desktop\\Célula de analytics\\Projetos\\iva-classifier\\data\\external\\sample.csv'\n",
    "PATH = r'C:\\Users\\User Ambev\\Desktop\\Célula de analytics\\Projetos\\iva-classifier\\data\\external\\history v3.csv'\n",
    "#data = pd.read_csv(PATH)"
   ]
  },
  {
   "cell_type": "code",
   "execution_count": 18,
   "metadata": {},
   "outputs": [],
   "source": [
    "#data.head()"
   ]
  },
  {
   "cell_type": "code",
   "execution_count": 27,
   "metadata": {},
   "outputs": [],
   "source": [
    "model_setup = {\n",
    "    'date_col':'DatadoDocumento',\n",
    "    'model_id':'teste1',\n",
    "    'dependent_vars': 'IVAMIRO',\n",
    "    'cat_features': ['IVAPC','PEP','Filial','Material','UF','TpImposto','UFUnd'],\n",
    "    'num_features': [],\n",
    "    'train_frac_split':0.9,\n",
    "    'pd_encoding':'ansi',\n",
    "    'pd_sep':',',\n",
    "    'date_col':None,\n",
    "    'fastai_cycles':12,\n",
    "    'cat_emb_szs': {\n",
    "        'IVAPC':10,\n",
    "        #'PEP':,\n",
    "        'Filial':10,\n",
    "        'Material':40,\n",
    "        'UF': 10,\n",
    "        #'TpImposto':,\n",
    "        'UFUnd':10\n",
    "    },\n",
    "    'fastai_bs':512\n",
    "}"
   ]
  },
  {
   "cell_type": "code",
   "execution_count": 28,
   "metadata": {},
   "outputs": [],
   "source": [
    "model = ClassificationPipeline(**model_setup)"
   ]
  },
  {
   "cell_type": "code",
   "execution_count": 29,
   "metadata": {},
   "outputs": [
    {
     "name": "stdout",
     "output_type": "stream",
     "text": [
      "loading data...\n"
     ]
    },
    {
     "name": "stderr",
     "output_type": "stream",
     "text": [
      "C:\\Anaconda3\\lib\\site-packages\\ipykernel_launcher.py:1: DtypeWarning: Columns (0,1,3,7,9,13) have mixed types.Specify dtype option on import or set low_memory=False.\n",
      "  \"\"\"Entry point for launching an IPython kernel.\n"
     ]
    },
    {
     "name": "stdout",
     "output_type": "stream",
     "text": [
      "dropping NaNs...\n",
      "Splitting data...\n",
      "train size: 81.0%\n",
      "validation size: 9.0%\n",
      "test size: 10.0%\n",
      "Dropped classes: ['IVAMIRO']\n",
      "100.0% of validation set kept\n"
     ]
    },
    {
     "data": {
      "text/html": [
       "<table border=\"1\" class=\"dataframe\">\n",
       "  <thead>\n",
       "    <tr style=\"text-align: right;\">\n",
       "      <th>IVAPC</th>\n",
       "      <th>PEP</th>\n",
       "      <th>Filial</th>\n",
       "      <th>Material</th>\n",
       "      <th>UF</th>\n",
       "      <th>TpImposto</th>\n",
       "      <th>UFUnd</th>\n",
       "      <th>target</th>\n",
       "    </tr>\n",
       "  </thead>\n",
       "  <tbody>\n",
       "    <tr>\n",
       "      <td>I7</td>\n",
       "      <td>U</td>\n",
       "      <td>BR1K</td>\n",
       "      <td>#na#</td>\n",
       "      <td>RS</td>\n",
       "      <td>B4</td>\n",
       "      <td>RS</td>\n",
       "      <td>I6</td>\n",
       "    </tr>\n",
       "    <tr>\n",
       "      <td>I7</td>\n",
       "      <td>U</td>\n",
       "      <td>BR08</td>\n",
       "      <td>#na#</td>\n",
       "      <td>PE</td>\n",
       "      <td>B4</td>\n",
       "      <td>PI</td>\n",
       "      <td>I7</td>\n",
       "    </tr>\n",
       "    <tr>\n",
       "      <td>QC</td>\n",
       "      <td>#na#</td>\n",
       "      <td>BR5D</td>\n",
       "      <td>39163</td>\n",
       "      <td>BA</td>\n",
       "      <td>B1</td>\n",
       "      <td>BA</td>\n",
       "      <td>QC</td>\n",
       "    </tr>\n",
       "    <tr>\n",
       "      <td>CD</td>\n",
       "      <td>K</td>\n",
       "      <td>BR2G</td>\n",
       "      <td>5.02671e+07</td>\n",
       "      <td>BA</td>\n",
       "      <td>B2</td>\n",
       "      <td>BA</td>\n",
       "      <td>CD</td>\n",
       "    </tr>\n",
       "    <tr>\n",
       "      <td>I9</td>\n",
       "      <td>#na#</td>\n",
       "      <td>BR08</td>\n",
       "      <td>5.00691e+07</td>\n",
       "      <td>SP</td>\n",
       "      <td>B1</td>\n",
       "      <td>PI</td>\n",
       "      <td>I9</td>\n",
       "    </tr>\n",
       "  </tbody>\n",
       "</table>"
      ],
      "text/plain": [
       "<IPython.core.display.HTML object>"
      ]
     },
     "metadata": {},
     "output_type": "display_data"
    },
    {
     "data": {
      "text/html": [
       "<table border=\"1\" class=\"dataframe\">\n",
       "  <thead>\n",
       "    <tr style=\"text-align: left;\">\n",
       "      <th>epoch</th>\n",
       "      <th>train_loss</th>\n",
       "      <th>valid_loss</th>\n",
       "      <th>accuracy</th>\n",
       "      <th>time</th>\n",
       "    </tr>\n",
       "  </thead>\n",
       "  <tbody>\n",
       "    <tr>\n",
       "      <td>0</td>\n",
       "      <td>0.283104</td>\n",
       "      <td>0.261646</td>\n",
       "      <td>0.913082</td>\n",
       "      <td>03:27</td>\n",
       "    </tr>\n",
       "    <tr>\n",
       "      <td>1</td>\n",
       "      <td>0.199662</td>\n",
       "      <td>0.185603</td>\n",
       "      <td>0.926539</td>\n",
       "      <td>03:32</td>\n",
       "    </tr>\n",
       "    <tr>\n",
       "      <td>2</td>\n",
       "      <td>0.178153</td>\n",
       "      <td>0.176260</td>\n",
       "      <td>0.931600</td>\n",
       "      <td>03:34</td>\n",
       "    </tr>\n",
       "    <tr>\n",
       "      <td>3</td>\n",
       "      <td>0.170343</td>\n",
       "      <td>0.172723</td>\n",
       "      <td>0.933895</td>\n",
       "      <td>03:34</td>\n",
       "    </tr>\n",
       "    <tr>\n",
       "      <td>4</td>\n",
       "      <td>0.165639</td>\n",
       "      <td>0.166982</td>\n",
       "      <td>0.936142</td>\n",
       "      <td>03:34</td>\n",
       "    </tr>\n",
       "    <tr>\n",
       "      <td>5</td>\n",
       "      <td>0.164743</td>\n",
       "      <td>0.168204</td>\n",
       "      <td>0.935299</td>\n",
       "      <td>03:34</td>\n",
       "    </tr>\n",
       "    <tr>\n",
       "      <td>6</td>\n",
       "      <td>0.158181</td>\n",
       "      <td>0.162735</td>\n",
       "      <td>0.936128</td>\n",
       "      <td>03:34</td>\n",
       "    </tr>\n",
       "    <tr>\n",
       "      <td>7</td>\n",
       "      <td>0.152266</td>\n",
       "      <td>0.164077</td>\n",
       "      <td>0.932667</td>\n",
       "      <td>03:35</td>\n",
       "    </tr>\n",
       "    <tr>\n",
       "      <td>8</td>\n",
       "      <td>0.152007</td>\n",
       "      <td>0.162210</td>\n",
       "      <td>0.937489</td>\n",
       "      <td>03:35</td>\n",
       "    </tr>\n",
       "    <tr>\n",
       "      <td>9</td>\n",
       "      <td>0.149030</td>\n",
       "      <td>0.160121</td>\n",
       "      <td>0.938388</td>\n",
       "      <td>03:35</td>\n",
       "    </tr>\n",
       "    <tr>\n",
       "      <td>10</td>\n",
       "      <td>0.146719</td>\n",
       "      <td>0.159993</td>\n",
       "      <td>0.938360</td>\n",
       "      <td>03:37</td>\n",
       "    </tr>\n",
       "    <tr>\n",
       "      <td>11</td>\n",
       "      <td>0.144125</td>\n",
       "      <td>0.159933</td>\n",
       "      <td>0.938234</td>\n",
       "      <td>03:54</td>\n",
       "    </tr>\n",
       "  </tbody>\n",
       "</table>"
      ],
      "text/plain": [
       "<IPython.core.display.HTML object>"
      ]
     },
     "metadata": {},
     "output_type": "display_data"
    },
    {
     "data": {
      "text/plain": [
       "<pipeline.classificationpipeline.ClassificationPipeline at 0x21caebe77c8>"
      ]
     },
     "execution_count": 29,
     "metadata": {},
     "output_type": "execute_result"
    }
   ],
   "source": [
    "model.fit(PATH)"
   ]
  },
  {
   "cell_type": "code",
   "execution_count": null,
   "metadata": {},
   "outputs": [],
   "source": [
    "model.save('.', 'teste')"
   ]
  },
  {
   "cell_type": "markdown",
   "metadata": {},
   "source": [
    "# Load fitted pipeline instance"
   ]
  },
  {
   "cell_type": "code",
   "execution_count": null,
   "metadata": {},
   "outputs": [],
   "source": [
    "loaded_model = ClassificationPipeline.load('teste')\n",
    "val_dict = loaded_model.validate(TEST_PATH)"
   ]
  },
  {
   "cell_type": "markdown",
   "metadata": {},
   "source": [
    "# teste"
   ]
  },
  {
   "cell_type": "code",
   "execution_count": null,
   "metadata": {},
   "outputs": [],
   "source": [
    "val_dict['data_df'][['_TRUE_LABEL_PROBA', '_CLASS_PROBA','_GOT_RIGHT','_UNSEEN_CLASS']].mean()\n"
   ]
  },
  {
   "cell_type": "code",
   "execution_count": null,
   "metadata": {},
   "outputs": [],
   "source": [
    "val_dict['pareto_ranking_df']"
   ]
  },
  {
   "cell_type": "code",
   "execution_count": null,
   "metadata": {},
   "outputs": [],
   "source": []
  }
 ],
 "metadata": {
  "kernelspec": {
   "display_name": "Python 3",
   "language": "python",
   "name": "python3"
  },
  "language_info": {
   "codemirror_mode": {
    "name": "ipython",
    "version": 3
   },
   "file_extension": ".py",
   "mimetype": "text/x-python",
   "name": "python",
   "nbconvert_exporter": "python",
   "pygments_lexer": "ipython3",
   "version": "3.7.6"
  },
  "latex_envs": {
   "LaTeX_envs_menu_present": true,
   "autoclose": false,
   "autocomplete": true,
   "bibliofile": "biblio.bib",
   "cite_by": "apalike",
   "current_citInitial": 1,
   "eqLabelWithNumbers": true,
   "eqNumInitial": 1,
   "hotkeys": {
    "equation": "Ctrl-E",
    "itemize": "Ctrl-I"
   },
   "labels_anchors": false,
   "latex_user_defs": false,
   "report_style_numbering": false,
   "user_envs_cfg": false
  },
  "toc": {
   "base_numbering": 1,
   "nav_menu": {},
   "number_sections": true,
   "sideBar": true,
   "skip_h1_title": false,
   "title_cell": "Table of Contents",
   "title_sidebar": "Contents",
   "toc_cell": false,
   "toc_position": {},
   "toc_section_display": true,
   "toc_window_display": false
  }
 },
 "nbformat": 4,
 "nbformat_minor": 4
}
